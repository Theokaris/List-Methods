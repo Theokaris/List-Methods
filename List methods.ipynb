{
 "cells": [
  {
   "cell_type": "markdown",
   "id": "47ee2874",
   "metadata": {},
   "source": [
    "# List Method 1: append"
   ]
  },
  {
   "cell_type": "markdown",
   "id": "b33dded3",
   "metadata": {},
   "source": [
    "> append method adds a new value at the end of the existing list"
   ]
  },
  {
   "cell_type": "code",
   "execution_count": 16,
   "id": "f490345d",
   "metadata": {},
   "outputs": [
    {
     "name": "stdout",
     "output_type": "stream",
     "text": [
      "Initial scores: [88, 92, 78, 90, 98, 84]\n",
      "Modified scores: [88, 92, 78, 90, 98, 84, 68]\n",
      "\n",
      "Initial ratings: [3.4, 2.9, 3.9, 4.5, 4, 2.4]\n",
      "Modified ratings: [3.4, 2.9, 3.9, 4.5, 4, 2.4, 4.8]\n",
      "\n",
      "Initial names: ['Mark', 'Amber', 'Todd', 'Anita', 'Sandy']\n",
      "Modified names: ['Mark', 'Amber', 'Todd', 'Anita', 'Sandy', 'Theophilus']\n",
      "\n",
      "Initial animals: ['dog', 'cat', 'goat', 'chicken', 'duck']\n",
      "Modified names: ['dog', 'cat', 'goat', 'chicken', 'duck', 'lion']\n",
      "\n",
      "Initial students: ['Mark', 'Amber', 'Todd', 'Anita', 'Sandy']\n",
      "Modified students: ['Mark', 'Amber', 'Todd', 'Anita', 'Sandy', 'James']\n",
      "\n",
      "Initial drivers: ['Huey', 'Dewey', 'Louie', 'Nader', 'Bubba']\n",
      "Modified drivers: ['Huey', 'Dewey', 'Louie', 'Nader', 'Bubba', 'Pedro']\n",
      "\n",
      "Initial fruits: ['apple', 'pineapple', 'mango']\n",
      "Modified fruits: ['apple', 'pineapple', 'mango', 'banana', 'pear', 'orange', 'cucumber']\n",
      "\n",
      "Initial countries: ['Nigeria', 'Mali', 'Germany', 'India', 'England']\n",
      "Modified countries: ['Nigeria', 'Mali', 'Germany', 'India', 'England', 'France', 'Mexico', 'China', 'Ghana', 'Fiji']\n",
      "\n",
      "Initial dates: []\n",
      "\n",
      "This date output is not recommended\n",
      "Modified dates: [datetime.date(2020, 12, 31), datetime.date(2022, 2, 21), datetime.date(2018, 7, 19), datetime.date(2021, 12, 6), datetime.date(2016, 9, 10)]\n",
      "\n",
      "This date output is recommended\n",
      " 12/31/20\n",
      " 02/21/22\n",
      " 07/19/18\n",
      " 12/06/21\n",
      " 09/10/16\n",
      "\n",
      "Initial birthdays: []\n",
      "17/02/92\n",
      "21/09/89\n",
      "06/12/02\n",
      "15/09/96\n"
     ]
    }
   ],
   "source": [
    "# Using append to add integer values to a list\n",
    "scores = [88, 92, 78, 90, 98, 84]\n",
    "print(f\"Initial scores: {scores}\")\n",
    "scores.append(68) # This adds 68 at the end of scores list\n",
    "print(f\"Modified scores: {scores}\") # 1st example\n",
    "\n",
    "# Using append to add float values to a list\n",
    "ratings = [3.4, 2.9, 3.9, 4.5, 4, 2.4]\n",
    "print(f\"\\nInitial ratings: {ratings}\")\n",
    "ratings.append(4.8) # This adds 4.8 at the end of ratings list\n",
    "print(f\"Modified ratings: {ratings}\") # 2nd example\n",
    "\n",
    "# Using append to add strings to a list\n",
    "names = [\"Mark\", \"Amber\", \"Todd\", \"Anita\", \"Sandy\"]\n",
    "print(f\"\\nInitial names: {names}\")\n",
    "names.append(\"Theophilus\") # This adds Theophilus at the end of names list\n",
    "print(f\"Modified names: {names}\") # 3rd example\n",
    "\n",
    "animals = [\"dog\", \"cat\", \"goat\", \"chicken\", \"duck\"]\n",
    "print(f\"\\nInitial animals: {animals}\")\n",
    "animals.append(\"lion\") # This adds lion at the end of animals list\n",
    "print(f\"Modified animals: {animals}\") # 4th example\n",
    "\n",
    "# Using a variable name  as the append argument\n",
    "students = [\"Mark\", \"Amber\", \"Todd\", \"Anita\", \"Sandy\"]\n",
    "print(f\"\\nInitial students: {students}\")\n",
    "new_student = \"James\"\n",
    "students.append(new_student) # This adds the value assigned to the variable new_student at the end of students list\n",
    "print(f\"Modified students: {students}\") # 5th example\n",
    "\n",
    "drivers = [\"Huey\", \"Dewey\", \"Louie\", \"Nader\", \"Bubba\"]\n",
    "print(f\"\\nInitial drivers: {drivers}\")\n",
    "new_driver = \"Pedro\"\n",
    "drivers.append(new_driver) # This adds the value assigned to the variable new_driver at the end of drivers list\n",
    "print(f\"Modified drivers: {drivers}\") # 6th example\n",
    "\n",
    "# Adding several items to the end of a list using multiple append statement\n",
    "fruits = [\"apple\", \"pineapple\", \"mango\"]\n",
    "print(f\"\\nInitial fruits: {fruits}\")\n",
    "# Adding several items to the fruits list\n",
    "fruits.append(\"banana\")\n",
    "fruits.append(\"pear\")\n",
    "fruits.append(\"orange\")\n",
    "fruits.append(\"cucumber\")\n",
    "print(f\"Modified fruits: {fruits}\") # 7th example\n",
    "\n",
    "countries = [\"Nigeria\", \"Mali\", \"Germany\", \"India\", \"England\"]\n",
    "print(f\"\\nInitial countries: {countries}\")\n",
    "# Adding several items to the countries list\n",
    "countries.append(\"France\")\n",
    "countries.append(\"Mexico\")\n",
    "countries.append(\"China\")\n",
    "countries.append(\"Ghana\")\n",
    "countries.append(\"Fiji\")\n",
    "print(f\"Modified countries: {countries}\") # 8th example\n",
    "\n",
    "# Using append to add dates to a list\n",
    "import datetime as dt # This module is required for dates\n",
    "\n",
    "dates = [] # Empty list contains no items. I will use append to fill new dates into the list.\n",
    "print(f\"\\nInitial dates: {dates}\")\n",
    "# Adding new dates to the dates list\n",
    "dates.append(dt.date(2020,12,31))\n",
    "dates.append(dt.date(2022,2,21))\n",
    "dates.append(dt.date(2018,7,19))\n",
    "dates.append(dt.date(2021,12,6))\n",
    "dates.append(dt.date(2016,9,10))\n",
    "# Showing dates output (not recommended method)\n",
    "print(\"\\nThis date output is not recommended\")\n",
    "print(f\"Modified dates: {dates}\")\n",
    "# Showing dates output (recommended method)\n",
    "print(\"\\nThis date output is recommended\")\n",
    "for date in dates:\n",
    "    print(f\"{date: %m/%d/%y}\")   # 9th example\n",
    "    \n",
    "birthdays = []\n",
    "print(f\"\\nInitial birthdays: {birthdays}\")\n",
    "# Adding new items to the birthdays list\n",
    "birthdays.append(dt.date(1992,2,17))\n",
    "birthdays.append(dt.date(1989,9,21))\n",
    "birthdays.append(dt.date(2002,12,6))\n",
    "birthdays.append(dt.date(1996,9,15))\n",
    "# Showing output\n",
    "for birthday in birthdays:\n",
    "    print(f\"{birthday:%d/%m/%y}\")  # 10th example"
   ]
  },
  {
   "cell_type": "markdown",
   "id": "da5a4a48",
   "metadata": {},
   "source": [
    "# List Method 2: insert"
   ]
  },
  {
   "cell_type": "markdown",
   "id": "663d5f7f",
   "metadata": {},
   "source": [
    "> insert method adds a new value into a particular (specified) positon in a list"
   ]
  },
  {
   "cell_type": "code",
   "execution_count": 17,
   "id": "61af3736",
   "metadata": {},
   "outputs": [
    {
     "name": "stdout",
     "output_type": "stream",
     "text": [
      "Initial scores: [88, 92, 78, 90, 98, 84]\n",
      "Modified scores: [68, 88, 92, 78, 90, 98, 84]\n"
     ]
    }
   ],
   "source": [
    "# Using insert to add value at the beginning of a list\n",
    "scores = [88, 92, 78, 90, 98, 84]\n",
    "print(f\"Initial scores: {scores}\")\n",
    "scores.insert(0,68) # This adds 68 at the beginning of scores list\n",
    "print(f\"Modified scores: {scores}\") # 1st example"
   ]
  },
  {
   "cell_type": "code",
   "execution_count": 20,
   "id": "611fef7d",
   "metadata": {},
   "outputs": [
    {
     "name": "stdout",
     "output_type": "stream",
     "text": [
      "\n",
      "Initial ratings: [3.4, 2.9, 3.9, 4.5, 4, 2.4]\n",
      "Modified ratings: [3.4, 2.9, 3.9, 4.5, 4, 2.4, 4.8]\n"
     ]
    }
   ],
   "source": [
    "# Using insert to add value at the end of a list\n",
    "ratings = [3.4, 2.9, 3.9, 4.5, 4, 2.4]\n",
    "print(f\"\\nInitial ratings: {ratings}\")\n",
    "ratings.insert(6, 4.8) # This adds 4.8 at the end of ratings list\n",
    "print(f\"Modified ratings: {ratings}\") # 2nd example"
   ]
  },
  {
   "cell_type": "code",
   "execution_count": 21,
   "id": "4cd6eca4",
   "metadata": {},
   "outputs": [
    {
     "name": "stdout",
     "output_type": "stream",
     "text": [
      "\n",
      "Initial names: ['Mark', 'Amber', 'Todd', 'Anita', 'Sandy']\n",
      "Modified names: ['Mark', 'Theophilus', 'Amber', 'Todd', 'Anita', 'Sandy']\n"
     ]
    }
   ],
   "source": [
    "# Using insert to add value at the second position of a list\n",
    "names = [\"Mark\", \"Amber\", \"Todd\", \"Anita\", \"Sandy\"]\n",
    "print(f\"\\nInitial names: {names}\")\n",
    "names.insert(1,\"Theophilus\") # This adds Theophilus at the second position of names list\n",
    "print(f\"Modified names: {names}\") # 3rd example"
   ]
  },
  {
   "cell_type": "code",
   "execution_count": 22,
   "id": "74ef0288",
   "metadata": {},
   "outputs": [
    {
     "name": "stdout",
     "output_type": "stream",
     "text": [
      "\n",
      "Initial animals: ['dog', 'cat', 'goat', 'chicken', 'duck']\n",
      "Modified names: ['dog', 'cat', 'goat', 'chicken', 'lion', 'duck']\n"
     ]
    }
   ],
   "source": [
    "# Using insert to add value at the second to the last position of a list\n",
    "animals = [\"dog\", \"cat\", \"goat\", \"chicken\", \"duck\"]\n",
    "print(f\"\\nInitial animals: {animals}\")\n",
    "animals.insert(-1,\"lion\") # This adds lion at the second to the last position of animals list\n",
    "print(f\"Modified names: {animals}\") # 4th example"
   ]
  },
  {
   "cell_type": "code",
   "execution_count": 25,
   "id": "075f7694",
   "metadata": {},
   "outputs": [
    {
     "name": "stdout",
     "output_type": "stream",
     "text": [
      "\n",
      "Initial students: ['Mark', 'Amber', 'Todd', 'Anita', 'Sandy']\n",
      "Modified students: ['James', 'Mark', 'Amber', 'Todd', 'Anita', 'Sandy']\n",
      "\n",
      "Initial drivers: ['Huey', 'Dewey', 'Louie', 'Nader', 'Bubba']\n",
      "Modified drivers: ['Huey', 'Dewey', 'Pedro', 'Louie', 'Nader', 'Bubba']\n"
     ]
    }
   ],
   "source": [
    "# Using a variable name  as one of the insert argument\n",
    "students = [\"Mark\", \"Amber\", \"Todd\", \"Anita\", \"Sandy\"]\n",
    "print(f\"\\nInitial students: {students}\")\n",
    "new_student = \"James\"\n",
    "students.insert(0,new_student) # This adds the value assigned to the variable new_student at the beginning of students list\n",
    "print(f\"Modified students: {students}\") # 5th example\n",
    "\n",
    "drivers = [\"Huey\", \"Dewey\", \"Louie\", \"Nader\", \"Bubba\"]\n",
    "print(f\"\\nInitial drivers: {drivers}\")\n",
    "new_driver = \"Pedro\"\n",
    "drivers.insert(2, new_driver) # This adds the value assigned to the variable new_driver at the third position of drivers list\n",
    "print(f\"Modified drivers: {drivers}\") # 6th example"
   ]
  },
  {
   "cell_type": "code",
   "execution_count": 29,
   "id": "10950a98",
   "metadata": {},
   "outputs": [
    {
     "name": "stdout",
     "output_type": "stream",
     "text": [
      "\n",
      "Initial fruits: ['apple', 'pineapple', 'mango']\n",
      "Modified fruits: ['banana', 'apple', 'orange', 'pineapple', 'cucumber', 'pear', 'mango']\n",
      "\n",
      "Initial countries: ['Nigeria', 'Mali', 'Germany', 'India', 'England']\n",
      "Modified countries: ['Mexico', 'Nigeria', 'China', 'Mali', 'Ghana', 'Germany', 'Fiji', 'India', 'France', 'England']\n"
     ]
    }
   ],
   "source": [
    "# Adding several items to the end of a list using multiple insert statement\n",
    "fruits = [\"apple\", \"pineapple\", \"mango\"]\n",
    "print(f\"\\nInitial fruits: {fruits}\")\n",
    "# Adding several items to the fruits list\n",
    "fruits.insert(0,\"banana\") # At the beginning\n",
    "fruits.insert(-1, \"pear\") # Second to the last position\n",
    "fruits.insert(2,\"orange\") # Third positon\n",
    "fruits.insert(4,\"cucumber\") # fifth position\n",
    "print(f\"Modified fruits: {fruits}\") # 7th example\n",
    "\n",
    "countries = [\"Nigeria\", \"Mali\", \"Germany\", \"India\", \"England\"]\n",
    "print(f\"\\nInitial countries: {countries}\")\n",
    "# Adding several items to the countries list\n",
    "countries.insert(-1,\"France\") # Second to the last position\n",
    "countries.insert(0,\"Mexico\")  # At the beginning\n",
    "countries.insert(2,\"China\") # Third positon\n",
    "countries.insert(4,\"Ghana\") # fith position\n",
    "countries.insert(6,\"Fiji\") # Seventh position\n",
    "print(f\"Modified countries: {countries}\") # 8th example"
   ]
  },
  {
   "cell_type": "code",
   "execution_count": 35,
   "id": "26c6f9c8",
   "metadata": {},
   "outputs": [
    {
     "name": "stdout",
     "output_type": "stream",
     "text": [
      "\n",
      "Initial dates: []\n",
      " 12/31/20\n",
      " 02/21/22\n",
      " 07/19/18\n",
      " 12/06/21\n",
      " 09/10/16\n",
      "\n",
      "After new dates added\n",
      "17/02/92\n",
      "31/12/20\n",
      "21/09/89\n",
      "21/02/22\n",
      "15/09/96\n",
      "19/07/18\n",
      "06/12/21\n",
      "06/12/02\n",
      "10/09/16\n"
     ]
    }
   ],
   "source": [
    "# Using append to add dates to a list\n",
    "import datetime as dt # This module is required for dates\n",
    "\n",
    "dates = [] # Empty list contains no items. I will use insert to fill new dates into the list.\n",
    "print(f\"\\nInitial dates: {dates}\")\n",
    "# Adding new dates to the dates list\n",
    "dates.insert(0,dt.date(2020,12,31)) # At the beginning\n",
    "dates.insert(1,dt.date(2022,2,21)) # Second position\n",
    "dates.insert(2,dt.date(2018,7,19)) # Third position\n",
    "dates.insert(3,dt.date(2021,12,6)) # Fourth position\n",
    "dates.insert(4,dt.date(2016,9,10)) # Fifth position\n",
    "# Showing dates output (recommended method)\n",
    "for date in dates:\n",
    "    print(f\"{date: %m/%d/%y}\")   # 9th example\n",
    "    \n",
    "#Inserting new dates into already created dates\n",
    "print(\"\\nAfter new dates added\")\n",
    "# Adding new items to the dates list\n",
    "dates.insert(0,dt.date(1992,2,17)) # At the beginning\n",
    "dates.insert(2,dt.date(1989,9,21)) # Third position\n",
    "dates.insert(-1,dt.date(2002,12,6)) # Second to the last position\n",
    "dates.insert(4,dt.date(1996,9,15)) # Fifth position\n",
    "# Showing output\n",
    "for date in dates:\n",
    "    print(f\"{date:%d/%m/%y}\")  # 10th example"
   ]
  },
  {
   "cell_type": "markdown",
   "id": "df7145f7",
   "metadata": {},
   "source": [
    "# List Method 3: extend"
   ]
  },
  {
   "cell_type": "markdown",
   "id": "4aebe978",
   "metadata": {},
   "source": [
    "> extend method is used to add multiple items to the end of a list at ones once or for combining lists together"
   ]
  },
  {
   "cell_type": "code",
   "execution_count": 4,
   "id": "56ace925",
   "metadata": {},
   "outputs": [
    {
     "name": "stdout",
     "output_type": "stream",
     "text": [
      "Initial scores: [88, 92, 78, 90, 98, 84]\n",
      "Modified scores: [88, 92, 78, 90, 98, 84, 68, 42, 76, 54, 27, 99]\n"
     ]
    }
   ],
   "source": [
    "# Using extend to add multiple integers at the end of a list\n",
    "scores = [88, 92, 78, 90, 98, 84]\n",
    "print(f\"Initial scores: {scores}\")\n",
    "scores.extend([68,42,76,54,27,99]) # This adds all values inside the extend method at the end of scores list\n",
    "print(f\"Modified scores: {scores}\") # 1st example"
   ]
  },
  {
   "cell_type": "code",
   "execution_count": 6,
   "id": "1f731bbb",
   "metadata": {},
   "outputs": [
    {
     "name": "stdout",
     "output_type": "stream",
     "text": [
      "Initial ratings: [3.4, 2.9, 3.9, 4.5, 4, 2.4]\n",
      "Modified ratings: [3.4, 2.9, 3.9, 4.5, 4, 2.4, 4.8, 3.2, 4.1, 5, 3.9]\n"
     ]
    }
   ],
   "source": [
    "# Using extend to add multiple floats at the end of a list\n",
    "ratings = [3.4, 2.9, 3.9, 4.5, 4, 2.4]\n",
    "print(f\"Initial ratings: {ratings}\")\n",
    "ratings.extend([4.8, 3.2, 4.1, 5, 3.9]) # This adds all values inside the extend method at the end of ratings list\n",
    "print(f\"Modified ratings: {ratings}\") # 2nd example"
   ]
  },
  {
   "cell_type": "code",
   "execution_count": 8,
   "id": "1d703e7c",
   "metadata": {},
   "outputs": [
    {
     "name": "stdout",
     "output_type": "stream",
     "text": [
      "Initial names: ['Mark', 'Amber', 'Todd', 'Anita', 'Sandy']\n",
      "Modified names: ['Mark', 'Amber', 'Todd', 'Anita', 'Sandy', 'Theophilus', 'Tombra', 'Praise', 'Riwalnu']\n",
      "\n",
      "Initial animals: ['dog', 'cat', 'goat', 'chicken', 'duck']\n",
      "Modified names: ['dog', 'cat', 'goat', 'chicken', 'duck', 'lion', 'tiger', 'elephant', 'jaguar']\n"
     ]
    }
   ],
   "source": [
    "# Using append to add multiple strings to a list\n",
    "names = [\"Mark\", \"Amber\", \"Todd\", \"Anita\", \"Sandy\"]\n",
    "print(f\"Initial names: {names}\")\n",
    "names.extend([\"Theophilus\",\"Tombra\",\"Praise\",\"Riwalnu\"]) # This adds all values inside the extend method at the end of names list\n",
    "print(f\"Modified names: {names}\") # 3rd example\n",
    "\n",
    "animals = [\"dog\", \"cat\", \"goat\", \"chicken\", \"duck\"]\n",
    "print(f\"\\nInitial animals: {animals}\")\n",
    "animals.extend([\"lion\",\"tiger\",\"elephant\",\"jaguar\"]) # This adds all values inside the extend method at the end of animals list\n",
    "print(f\"Modified names: {animals}\") # 4th example"
   ]
  },
  {
   "cell_type": "code",
   "execution_count": 19,
   "id": "77f3d3e3",
   "metadata": {},
   "outputs": [
    {
     "name": "stdout",
     "output_type": "stream",
     "text": [
      "Initial students: ['Mark', 'Amber', 'Todd', 'Anita', 'Sandy']\n",
      "Modified students: ['Mark', 'Amber', 'Todd', 'Anita', 'Sandy', 'James', 'Caleb', 'Elizabeth', 'Kolawole']\n",
      "\n",
      "Initial drivers: ['Huey', 'Dewey', 'Louie', 'Nader', 'Bubba']\n",
      "Modified drivers: ['Huey', 'Dewey', 'Louie', 'Nader', 'Bubba', 'Pedro', 'Udo', 'Abiodun', 'Girish']\n"
     ]
    }
   ],
   "source": [
    "# Using a variable names  as the extend argument\n",
    "students = [\"Mark\", \"Amber\", \"Todd\", \"Anita\", \"Sandy\"]\n",
    "print(f\"Initial students: {students}\")\n",
    "new_student1 = \"James\"\n",
    "new_student2 = \"Caleb\"\n",
    "new_student3 = \"Elizabeth\"\n",
    "new_student4 = \"Kolawole\"\n",
    "# This adds the value assigned to the variables at the end of students list\n",
    "students.extend([new_student1,new_student2,new_student3,new_student4])\n",
    "print(f\"Modified students: {students}\") # 5th example\n",
    "\n",
    "drivers = [\"Huey\", \"Dewey\", \"Louie\", \"Nader\", \"Bubba\"]\n",
    "print(f\"\\nInitial drivers: {drivers}\")\n",
    "new_driver1 = \"Pedro\"\n",
    "new_driver2 = \"Udo\"\n",
    "new_driver3 = \"Abiodun\"\n",
    "new_driver4 = \"Girish\"\n",
    "# This adds the value assigned to the variable new_driver at the end of drivers list\n",
    "drivers.extend([new_driver1,new_driver2,new_driver3,new_driver4]) \n",
    "print(f\"Modified drivers: {drivers}\") # 6th example"
   ]
  },
  {
   "cell_type": "code",
   "execution_count": 15,
   "id": "3b7b39b5",
   "metadata": {},
   "outputs": [
    {
     "name": "stdout",
     "output_type": "stream",
     "text": [
      "Initial students: ['Mark', 'Amber', 'Todd', 'Anita', 'Sandy']\n",
      "Initial new_students: ['James', 'Caleb', 'Elizabeth', 'Kolawole']\n",
      "Combined students: ['Mark', 'Amber', 'Todd', 'Anita', 'Sandy', 'James', 'Caleb', 'Elizabeth', 'Kolawole']\n",
      "\n",
      "Initial drivers: ['Huey', 'Dewey', 'Louie', 'Nader', 'Bubba']\n",
      "Initial old_drivers: ['Pedro', 'Udo', 'Abiodun', 'Girish', 'Umar', 'Daniel']\n",
      "Combined drivers: ['Pedro', 'Udo', 'Abiodun', 'Girish', 'Umar', 'Daniel', 'Huey', 'Dewey', 'Louie', 'Nader', 'Bubba']\n"
     ]
    }
   ],
   "source": [
    "# Combining lists using extend\n",
    "# First list\n",
    "students = [\"Mark\", \"Amber\", \"Todd\", \"Anita\", \"Sandy\"]\n",
    "print(f\"Initial students: {students}\")\n",
    "# Second list\n",
    "new_students = [\"James\", \"Caleb\", \"Elizabeth\", \"Kolawole\"]\n",
    "print(f\"Initial new_students: {new_students}\")\n",
    "# Combining second list to first list\n",
    "students.extend(new_students)\n",
    "# Show combined lists\n",
    "print(f\"Combined students: {students}\") # 7th example\n",
    "\n",
    "\n",
    "# First list\n",
    "drivers = [\"Huey\", \"Dewey\", \"Louie\", \"Nader\", \"Bubba\"]\n",
    "print(f\"\\nInitial drivers: {drivers}\")\n",
    "# Second list\n",
    "old_drivers = [\"Pedro\", \"Udo\",\"Abiodun\", \"Girish\", \"Umar\",\"Daniel\"]\n",
    "print(f\"Initial old_drivers: {old_drivers}\")\n",
    "# Combining the first list to the second list\n",
    "old_drivers.extend(drivers)\n",
    "# Show combined lists\n",
    "print(f\"Combined drivers: {old_drivers}\") # 8th example\n"
   ]
  },
  {
   "cell_type": "code",
   "execution_count": 18,
   "id": "16f9cfa3",
   "metadata": {},
   "outputs": [
    {
     "name": "stdout",
     "output_type": "stream",
     "text": [
      "This is the dates list\n",
      " 31/12/20\n",
      " 21/02/22\n",
      " 19/07/18\n",
      " 06/12/21\n",
      " 10/09/16\n",
      "\n",
      "This is the birthdays list\n",
      "17/02/92\n",
      "21/09/89\n",
      "06/12/02\n",
      "15/09/96\n",
      "\n",
      "This is after combining birthdays list to dates lists\n",
      "31/12/20\n",
      "21/02/22\n",
      "19/07/18\n",
      "06/12/21\n",
      "10/09/16\n",
      "17/02/92\n",
      "21/09/89\n",
      "06/12/02\n",
      "15/09/96\n"
     ]
    }
   ],
   "source": [
    "# Combining two date using extend\n",
    "import datetime as dt # This module is required for dates\n",
    "\n",
    "# first dates\n",
    "dates = [] # Empty list contains no items. I will use append to fill new dates into the list.\n",
    "# Adding new dates to the dates list\n",
    "dates.append(dt.date(2020,12,31))\n",
    "dates.append(dt.date(2022,2,21))\n",
    "dates.append(dt.date(2018,7,19))\n",
    "dates.append(dt.date(2021,12,6))\n",
    "dates.append(dt.date(2016,9,10))\n",
    "# Showing dates output\n",
    "print(\"This is the dates list\")\n",
    "for date in dates:\n",
    "    print(f\"{date: %d/%m/%y}\")\n",
    "    \n",
    "#Second dates    \n",
    "birthdays = []\n",
    "# Adding new items to the birthdays list\n",
    "birthdays.append(dt.date(1992,2,17))\n",
    "birthdays.append(dt.date(1989,9,21))\n",
    "birthdays.append(dt.date(2002,12,6))\n",
    "birthdays.append(dt.date(1996,9,15))\n",
    "# Showing birthdays output\n",
    "print(\"\\nThis is the birthdays list\")\n",
    "for birthday in birthdays:\n",
    "    print(f\"{birthday:%d/%m/%y}\") \n",
    "    \n",
    "# Combining birthdays list to dates lists\n",
    "dates.extend(birthdays)\n",
    "# Showing output for combined lists\n",
    "print(\"\\nThis is after combining birthdays list to dates lists\")\n",
    "for date in dates:\n",
    "    print(f\"{date:%d/%m/%y}\")  # 9th example\n",
    "    "
   ]
  },
  {
   "cell_type": "code",
   "execution_count": 19,
   "id": "0b9f11f6",
   "metadata": {},
   "outputs": [
    {
     "name": "stdout",
     "output_type": "stream",
     "text": [
      "This is the dates list\n",
      " 31/12/20\n",
      " 21/02/22\n",
      " 19/07/18\n",
      " 06/12/21\n",
      " 10/09/16\n",
      "\n",
      "This is the birthdays list\n",
      "17/02/92\n",
      "21/09/89\n",
      "06/12/02\n",
      "15/09/96\n",
      "\n",
      "This is after combining dates list to birthdays lists\n",
      "17/02/92\n",
      "21/09/89\n",
      "06/12/02\n",
      "15/09/96\n",
      "31/12/20\n",
      "21/02/22\n",
      "19/07/18\n",
      "06/12/21\n",
      "10/09/16\n"
     ]
    }
   ],
   "source": [
    "# first dates\n",
    "dates = [] # Empty list contains no items. I will use append to fill new dates into the list.\n",
    "# Adding new dates to the dates list\n",
    "dates.append(dt.date(2020,12,31))\n",
    "dates.append(dt.date(2022,2,21))\n",
    "dates.append(dt.date(2018,7,19))\n",
    "dates.append(dt.date(2021,12,6))\n",
    "dates.append(dt.date(2016,9,10))\n",
    "# Showing dates output\n",
    "print(\"This is the dates list\")\n",
    "for date in dates:\n",
    "    print(f\"{date: %d/%m/%y}\")\n",
    "    \n",
    "#Second dates    \n",
    "birthdays = []\n",
    "# Adding new items to the birthdays list\n",
    "birthdays.append(dt.date(1992,2,17))\n",
    "birthdays.append(dt.date(1989,9,21))\n",
    "birthdays.append(dt.date(2002,12,6))\n",
    "birthdays.append(dt.date(1996,9,15))\n",
    "# Showing birthdays output\n",
    "print(\"\\nThis is the birthdays list\")\n",
    "for birthday in birthdays:\n",
    "    print(f\"{birthday:%d/%m/%y}\") \n",
    "    \n",
    "# Combining dates list to birthdays lists\n",
    "birthdays.extend(dates)\n",
    "# Showing output for combined lists\n",
    "print(\"\\nThis is after combining dates list to birthdays lists\")\n",
    "for birthday in birthdays:\n",
    "    print(f\"{birthday:%d/%m/%y}\") #10th example"
   ]
  },
  {
   "cell_type": "markdown",
   "id": "6e940435",
   "metadata": {},
   "source": [
    "# List Method 4: remove"
   ]
  },
  {
   "cell_type": "markdown",
   "id": "26ecd510",
   "metadata": {},
   "source": [
    "> remove method removes the first instance of a specified item from a list"
   ]
  },
  {
   "cell_type": "code",
   "execution_count": 20,
   "id": "aeeb8f6a",
   "metadata": {},
   "outputs": [
    {
     "name": "stdout",
     "output_type": "stream",
     "text": [
      "Initial scores: [88, 92, 78, 88, 90, 98, 84]\n",
      "Modified scores: [92, 78, 88, 90, 98, 84]\n"
     ]
    }
   ],
   "source": [
    "# Using remove to remove integer values from a list\n",
    "scores = [88, 92, 78, 88, 90, 98, 84]\n",
    "print(f\"Initial scores: {scores}\")\n",
    "scores.remove(88) # This removes the first instance of 88 from the scores list\n",
    "print(f\"Modified scores: {scores}\") # 1st example"
   ]
  },
  {
   "cell_type": "code",
   "execution_count": 21,
   "id": "92fdeef3",
   "metadata": {},
   "outputs": [
    {
     "name": "stdout",
     "output_type": "stream",
     "text": [
      "\n",
      "Initial ratings: [3.4, 2.9, 3.9, 4.5, 4, 2.4]\n",
      "Modified ratings: [3.4, 3.9, 4.5, 4, 2.4]\n"
     ]
    }
   ],
   "source": [
    "# Using remove to remove float values from a list\n",
    "ratings = [3.4, 2.9, 3.9, 4.5, 4, 2.4]\n",
    "print(f\"Initial ratings: {ratings}\")\n",
    "ratings.remove(2.9) # This removes the first instance of 2.9 from the ratings list\n",
    "print(f\"Modified ratings: {ratings}\") # 2nd example"
   ]
  },
  {
   "cell_type": "code",
   "execution_count": 17,
   "id": "291e8efb",
   "metadata": {},
   "outputs": [
    {
     "name": "stdout",
     "output_type": "stream",
     "text": [
      "Initial names: ['Mark', 'Amber', 'Todd', 'Anita', 'Sandy', 'Amber']\n",
      "Modified names: ['Mark', 'Todd', 'Anita', 'Sandy', 'Amber']\n",
      "\n",
      "Initial animals: ['dog', 'cat', 'goat', 'chicken', 'goat', 'duck', 'dog', 'goat', 'cat']\n",
      "Modified animals: ['dog', 'cat', 'chicken', 'goat', 'duck', 'dog', 'goat', 'cat']\n"
     ]
    }
   ],
   "source": [
    "# Using remove to remove string values from a list\n",
    "names = [\"Mark\", \"Amber\", \"Todd\", \"Anita\", \"Sandy\", \"Amber\"]\n",
    "print(f\"Initial names: {names}\")\n",
    "names.remove(\"Amber\") # This removes the first instance of Amber from the names list\n",
    "print(f\"Modified names: {names}\") # 3rd example\n",
    "\n",
    "animals = [\"dog\", \"cat\", \"goat\", \"chicken\", \"goat\", \"duck\", \"dog\", \"goat\", \"cat\"]\n",
    "print(f\"\\nInitial animals: {animals}\")\n",
    "animals.remove(\"goat\") # This removes the first instance of goat from the animals list\n",
    "print(f\"Modified animals: {animals}\") # 4th example"
   ]
  },
  {
   "cell_type": "code",
   "execution_count": 28,
   "id": "48d8d1d7",
   "metadata": {},
   "outputs": [
    {
     "name": "stdout",
     "output_type": "stream",
     "text": [
      "\n",
      "Initial students: ['Mark', 'Amber', 'Todd', 'Anita', 'Sandy']\n",
      "Modified students: ['Mark', 'Todd', 'Anita', 'Sandy']\n",
      "\n",
      "Initial drivers: ['Huey', 'Dewey', 'Louie', 'Nader', 'Bubba']\n",
      "Modified drivers: ['Huey', 'Dewey', 'Louie', 'Nader']\n"
     ]
    }
   ],
   "source": [
    "# Using a variable name  as the remove argument\n",
    "students = [\"Mark\", \"Amber\", \"Todd\", \"Anita\", \"Sandy\"]\n",
    "print(f\"\\nInitial students: {students}\")\n",
    "rem_student = \"Amber\"\n",
    "students.remove(rem_student) # This removes the first instance of the value assigned to the variable new_student from the students list\n",
    "print(f\"Modified students: {students}\") # 5th example\n",
    "\n",
    "drivers = [\"Huey\", \"Dewey\", \"Louie\", \"Nader\", \"Bubba\"]\n",
    "print(f\"\\nInitial drivers: {drivers}\")\n",
    "rem_driver = \"Bubba\"\n",
    "drivers.remove(rem_driver) # This removes the first instance of the value assigned to the variable new_student from the drivers list\n",
    "print(f\"Modified drivers: {drivers}\") # 6th example"
   ]
  },
  {
   "cell_type": "code",
   "execution_count": 12,
   "id": "72c386bd",
   "metadata": {},
   "outputs": [
    {
     "name": "stdout",
     "output_type": "stream",
     "text": [
      "Initial animals: ['dog', 'cat', 'goat', 'chicken', 'goat', 'duck', 'dog', 'goat', 'cat']\n",
      "Modified animals: ['dog', 'cat', 'chicken', 'duck', 'dog', 'cat']\n",
      "\n",
      "Initial names: ['Mark', 'Amber', 'Todd', 'Anita', 'Sandy', 'Amber']\n",
      "Modified names: ['Mark', 'Todd', 'Anita', 'Sandy']\n",
      "\n",
      "Initial scores: [88, 92, 78, 88, 90, 98, 84]\n",
      "Modified scores: [92, 78, 90, 98, 84]\n"
     ]
    }
   ],
   "source": [
    "# Removing multiple instances from a list using remove method and while loop\n",
    "animals = [\"dog\", \"cat\", \"goat\", \"chicken\", \"goat\", \"duck\", \"dog\", \"goat\", \"cat\"]\n",
    "print(f\"Initial animals: {animals}\")\n",
    "# While loop to remove all instances of goat\n",
    "while \"goat\" in animals:\n",
    "    animals.remove(\"goat\")\n",
    "# Show the output  \n",
    "print(f\"Modified animals: {animals}\") # 7th example\n",
    "\n",
    "names = [\"Mark\", \"Amber\", \"Todd\", \"Anita\", \"Sandy\", \"Amber\"]\n",
    "print(f\"\\nInitial names: {names}\")\n",
    "# While loop to remove all instances of Amber\n",
    "while \"Amber\" in names:\n",
    "    names.remove(\"Amber\")\n",
    "# Show the output\n",
    "print(f\"Modified names: {names}\")  # 8th example\n",
    "\n",
    "scores = [88, 92, 78, 88, 90, 98, 84]\n",
    "print(f\"\\nInitial scores: {scores}\")\n",
    "# While loop to remove all instances of 88\n",
    "while 88 in scores:\n",
    "    scores.remove(88)\n",
    "# Show the output\n",
    "print(f\"Modified scores: {scores}\")  # 9th example"
   ]
  },
  {
   "cell_type": "code",
   "execution_count": 10,
   "id": "cd26a502",
   "metadata": {},
   "outputs": [
    {
     "name": "stdout",
     "output_type": "stream",
     "text": [
      "This is the dates list\n",
      " 31/12/20\n",
      " 21/02/22\n",
      " 19/07/18\n",
      " 06/12/21\n",
      " 10/09/16\n",
      "\n",
      "This is the new date list after removing 10/09/2026\n",
      "31/12/20\n",
      "21/02/22\n",
      "19/07/18\n",
      "06/12/21\n"
     ]
    }
   ],
   "source": [
    "# Removing a date from a date list\n",
    "import datetime as dt # This module is required for dates\n",
    "dates = [] # Empty list contains no items. I will use append to fill new dates into the list.\n",
    "# Adding new dates to the dates list\n",
    "dates.append(dt.date(2020,12,31))\n",
    "dates.append(dt.date(2022,2,21))\n",
    "dates.append(dt.date(2018,7,19))\n",
    "dates.append(dt.date(2021,12,6))\n",
    "dates.append(dt.date(2016,9,10))\n",
    "# Showing dates output\n",
    "print(\"This is the dates list\")\n",
    "for date in dates:\n",
    "    print(f\"{date: %d/%m/%y}\")\n",
    "    \n",
    "# Using remove method to remove 10/09/2016 from the list\n",
    "dates.remove(dt.date(2016,9,10))\n",
    "# Showing new output\n",
    "print(\"\\nThis is the new date list after removing 10/09/2026\")\n",
    "for date in dates:\n",
    "    print(f\"{date:%d/%m/%y}\") # 10th example"
   ]
  },
  {
   "cell_type": "markdown",
   "id": "abcbd917",
   "metadata": {},
   "source": [
    "# List Method 5: pop"
   ]
  },
  {
   "cell_type": "markdown",
   "id": "d3b20192",
   "metadata": {},
   "source": [
    "> pop method like remove method removes an item from a list but it uses the item index rather than the item name and can also display the removed item "
   ]
  },
  {
   "cell_type": "code",
   "execution_count": 29,
   "id": "0654db78",
   "metadata": {},
   "outputs": [
    {
     "name": "stdout",
     "output_type": "stream",
     "text": [
      "Initial scores: [88, 92, 78, 90, 98, 84]\n",
      "88 was removed, so the modified scores is [92, 78, 90, 98, 84]\n",
      "\n",
      "Initial posts: [88, 92, 78, 90, 98, 84]\n",
      "90 was removed, so the modified posts is [88, 92, 78, 98, 84]\n"
     ]
    }
   ],
   "source": [
    "# Using pop to remove integer values from a list and displaying the removed values\n",
    "scores = [88, 92, 78, 90, 98, 84]\n",
    "print(f\"Initial scores: {scores}\")\n",
    "pop_first = scores.pop(0) # This removes the first value from the scores list\n",
    "print(f\"{pop_first} was removed, so the modified scores is {scores}\") # 1st example\n",
    "\n",
    "posts = [88, 92, 78, 90, 98, 84]\n",
    "print(f\"\\nInitial posts: {posts}\")\n",
    "pop_fourth = posts.pop(3) # This removes the fourth value from the posts list\n",
    "print(f\"{pop_fourth} was removed, so the modified posts is {posts}\") # 2nd example"
   ]
  },
  {
   "cell_type": "code",
   "execution_count": 31,
   "id": "03503724",
   "metadata": {},
   "outputs": [
    {
     "name": "stdout",
     "output_type": "stream",
     "text": [
      "Initial ratings: [3.4, 2.9, 3.9, 4.5, 4, 2.4]\n",
      "2.4 was removed, so the modified ratings is [3.4, 2.9, 3.9, 4.5, 4]\n",
      "\n",
      "Initial lapses: [3.4, 2.9, 3.9, 4.5, 4, 7.8, 8.9, 5.6]\n",
      "7.8 was removed, so the modified lapses is [3.4, 2.9, 3.9, 4.5, 4, 8.9, 5.6]\n"
     ]
    }
   ],
   "source": [
    "# Using pop to remove float values from a list and displaying the removed values\n",
    "ratings = [3.4, 2.9, 3.9, 4.5, 4, 2.4]\n",
    "print(f\"Initial ratings: {ratings}\")\n",
    "pop_last = ratings.pop() # This removes the last value from the ratings list\n",
    "print(f\"{pop_last} was removed, so the modified ratings is {ratings}\") # 3rd example\n",
    "\n",
    "lapses = [3.4, 2.9, 3.9, 4.5, 4, 7.8, 8.9, 5.6]\n",
    "print(f\"\\nInitial lapses: {lapses}\")\n",
    "pop_sixth = lapses.pop(5) # This removes the sixth value from the lapses list\n",
    "print(f\"{pop_sixth} was removed, so the modified lapses is {lapses}\") # 4th example"
   ]
  },
  {
   "cell_type": "code",
   "execution_count": 19,
   "id": "1001dd42",
   "metadata": {},
   "outputs": [
    {
     "name": "stdout",
     "output_type": "stream",
     "text": [
      "Initial names: ['Mark', 'Amber', 'Todd', 'Anita', 'Sandy', 'Amber']\n",
      "Todd was removed, so the modified names is ['Mark', 'Amber', 'Anita', 'Sandy', 'Amber']\n",
      "\n",
      "Initial animals: ['dog', 'cat', 'goat', 'chicken', 'goat', 'duck', 'dog', 'goat', 'cat']\n",
      "goat was removed, so the modified animals is ['dog', 'cat', 'goat', 'chicken', 'duck', 'dog', 'goat', 'cat']\n"
     ]
    }
   ],
   "source": [
    "# Using pop to remove string values from a list and displaying the removed values\n",
    "names = [\"Mark\", \"Amber\", \"Todd\", \"Anita\", \"Sandy\", \"Amber\"]\n",
    "print(f\"Initial names: {names}\")\n",
    "pop_third = names.pop(2) # This removes the third value from the names list\n",
    "print(f\"{pop_third} was removed, so the modified names is {names}\") # 5th example\n",
    "\n",
    "animals = [\"dog\", \"cat\", \"goat\", \"chicken\", \"goat\", \"duck\", \"dog\", \"goat\", \"cat\"]\n",
    "print(f\"\\nInitial animals: {animals}\")\n",
    "pop_fifth = animals.pop(4) # This removes the fifth value from the animals list\n",
    "print(f\"{pop_fifth} was removed, so the modified animals is {animals}\") # 6th example"
   ]
  },
  {
   "cell_type": "code",
   "execution_count": 24,
   "id": "910f0998",
   "metadata": {},
   "outputs": [
    {
     "name": "stdout",
     "output_type": "stream",
     "text": [
      "The first laptop I owned was a hp laptop\n",
      "While my latest laptop is a samsung laptop\n"
     ]
    }
   ],
   "source": [
    "# Using values from pop \n",
    "laptops = [\"hp\", \"asus\", \"lenovo\", \"dell\", \"samsung\"]\n",
    "\n",
    "first_owned = laptops.pop(0) # Removing the first value from the list\n",
    "print(f\"The first laptop I owned was a {first_owned} laptop\") # 7th example\n",
    "\n",
    "last_owned = laptops.pop() # Removing the last value from the list\n",
    "print(f\"While my latest laptop is a {last_owned} laptop\") # 8th example"
   ]
  },
  {
   "cell_type": "code",
   "execution_count": 25,
   "id": "5cdeb2d3",
   "metadata": {},
   "outputs": [
    {
     "name": "stdout",
     "output_type": "stream",
     "text": [
      "['B', 'C', 'D', 'E', 'F']\n",
      "\"A\" and \"G\" were removed from the list.\n"
     ]
    }
   ],
   "source": [
    "letters = [\"A\", \"B\", \"C\", \"D\", \"E\", \"F\", \"G\"]\n",
    "\n",
    "# Make a copy of the first item on the list and remove it\n",
    "first_item = letters.pop(0)\n",
    "\n",
    "# Make a copy of the last item on the list and remove it\n",
    "last_item = letters.pop()\n",
    "\n",
    "# Show me the new list\n",
    "print(letters)\n",
    "# Show what's been removed\n",
    "print(f'\"{first_item}\" and \"{last_item}\" were removed from the list.') # 9th example"
   ]
  },
  {
   "cell_type": "code",
   "execution_count": 34,
   "id": "12253cc7",
   "metadata": {},
   "outputs": [
    {
     "name": "stdout",
     "output_type": "stream",
     "text": [
      "This is the dates list\n",
      " 31/12/20\n",
      " 21/02/22\n",
      " 19/07/18\n",
      " 06/12/21\n",
      " 10/09/16\n",
      "\n",
      "10/09/16 was removed, the dates left are:\n",
      "31/12/20\n",
      "21/02/22\n",
      "19/07/18\n",
      "06/12/21\n"
     ]
    }
   ],
   "source": [
    "# Removing a date from a date list and displaying the removed date\n",
    "import datetime as dt # This module is required for dates\n",
    "dates = [] # Empty list contains no items. I will use append to fill new dates into the list.\n",
    "# Adding new dates to the dates list\n",
    "dates.append(dt.date(2020,12,31))\n",
    "dates.append(dt.date(2022,2,21))\n",
    "dates.append(dt.date(2018,7,19))\n",
    "dates.append(dt.date(2021,12,6))\n",
    "dates.append(dt.date(2016,9,10))\n",
    "# Showing dates output\n",
    "print(\"This is the dates list\")\n",
    "for date in dates:\n",
    "    print(f\"{date: %d/%m/%y}\")\n",
    "    \n",
    "# Using pop method to remove 10/09/2016 from the list\n",
    "last_removed = dates.pop()\n",
    "# Showing new output\n",
    "print(f\"\\n{last_removed:%d/%m/%y} was removed, the dates left are:\")\n",
    "for date in dates:\n",
    "    print(f\"{date:%d/%m/%y}\") # 10th example"
   ]
  },
  {
   "cell_type": "markdown",
   "id": "12b2ec9d",
   "metadata": {},
   "source": [
    "# List Method 6: clear"
   ]
  },
  {
   "cell_type": "markdown",
   "id": "6c42d7d1",
   "metadata": {},
   "source": [
    "> clear method is used to remove all items from the list without deleting the list. It empties a list"
   ]
  },
  {
   "cell_type": "code",
   "execution_count": 1,
   "id": "e2a7fc8e",
   "metadata": {},
   "outputs": [
    {
     "name": "stdout",
     "output_type": "stream",
     "text": [
      "Initial scores: [88, 92, 78, 88, 90, 98, 84]\n",
      "Modified scores: []\n"
     ]
    }
   ],
   "source": [
    "# Using clear to remove all values from a list\n",
    "scores = [88, 92, 78, 88, 90, 98, 84]\n",
    "print(f\"Initial scores: {scores}\")\n",
    "scores.clear() # This removes all values from the scores list\n",
    "print(f\"Modified scores: {scores}\") # 1st example"
   ]
  },
  {
   "cell_type": "code",
   "execution_count": 2,
   "id": "4011b791",
   "metadata": {},
   "outputs": [
    {
     "name": "stdout",
     "output_type": "stream",
     "text": [
      "Initial ratings: [3.4, 2.9, 3.9, 4.5, 4, 2.4]\n",
      "Modified ratings: []\n"
     ]
    }
   ],
   "source": [
    "# Using clear to remove all values from a list\n",
    "ratings = [3.4, 2.9, 3.9, 4.5, 4, 2.4]\n",
    "print(f\"Initial ratings: {ratings}\")\n",
    "ratings.clear() # This removes all values from the ratings list\n",
    "print(f\"Modified ratings: {ratings}\") # 2nd example"
   ]
  },
  {
   "cell_type": "code",
   "execution_count": 3,
   "id": "08648e75",
   "metadata": {},
   "outputs": [
    {
     "name": "stdout",
     "output_type": "stream",
     "text": [
      "Initial students: ['Mark', 'Amber', 'Todd', 'Anita', 'Sandy']\n",
      "Modified students: []\n",
      "\n",
      "Initial drivers: ['Huey', 'Dewey', 'Louie', 'Nader', 'Bubba']\n",
      "Modified drivers: []\n"
     ]
    }
   ],
   "source": [
    "# Using clear to remove all values from a list\n",
    "students = [\"Mark\", \"Amber\", \"Todd\", \"Anita\", \"Sandy\"]\n",
    "print(f\"Initial students: {students}\")\n",
    "students.clear()  # This removes all values from the students list\n",
    "print(f\"Modified students: {students}\") # 3rd example\n",
    "\n",
    "drivers = [\"Huey\", \"Dewey\", \"Louie\", \"Nader\", \"Bubba\"]\n",
    "print(f\"\\nInitial drivers: {drivers}\")\n",
    "drivers.clear()  # This removes all values from the drivers list\n",
    "print(f\"Modified drivers: {drivers}\") # 4th example"
   ]
  },
  {
   "cell_type": "code",
   "execution_count": 4,
   "id": "0e49223b",
   "metadata": {},
   "outputs": [
    {
     "name": "stdout",
     "output_type": "stream",
     "text": [
      "Initial names: ['Mark', 'Amber', 'Todd', 'Anita', 'Sandy', 'Amber']\n",
      "Modified names: []\n",
      "\n",
      "Initial animals: ['dog', 'cat', 'goat', 'chicken', 'goat', 'duck', 'dog', 'goat', 'cat']\n",
      "Modified animals: []\n"
     ]
    }
   ],
   "source": [
    "# Using clear to remove all values from a list\n",
    "names = [\"Mark\", \"Amber\", \"Todd\", \"Anita\", \"Sandy\", \"Amber\"]\n",
    "print(f\"Initial names: {names}\")\n",
    "names.clear() # This removes all values from the names list\n",
    "print(f\"Modified names: {names}\") # 5th example\n",
    "\n",
    "animals = [\"dog\", \"cat\", \"goat\", \"chicken\", \"goat\", \"duck\", \"dog\", \"goat\", \"cat\"]\n",
    "print(f\"\\nInitial animals: {animals}\")\n",
    "animals.clear() # This removes all values from the animals list\n",
    "print(f\"Modified animals: {animals}\") # 6th example"
   ]
  },
  {
   "cell_type": "code",
   "execution_count": 6,
   "id": "30f30900",
   "metadata": {},
   "outputs": [
    {
     "name": "stdout",
     "output_type": "stream",
     "text": [
      "Initial new_students: ['James', 'Caleb', 'Elizabeth', 'Kolawole']\n",
      "Modified new_students: []\n",
      "\n",
      "Initial countries: ['Nigeria', 'Mali', 'Germany', 'India', 'England']\n",
      "Modified countries: []\n"
     ]
    }
   ],
   "source": [
    "# Using clear to remove all values from a list\n",
    "new_students = [\"James\", \"Caleb\", \"Elizabeth\", \"Kolawole\"]\n",
    "print(f\"Initial new_students: {new_students}\")\n",
    "new_students.clear() # This removes all values from the new_students list\n",
    "print(f\"Modified new_students: {new_students}\") #7th example\n",
    "\n",
    "countries = [\"Nigeria\", \"Mali\", \"Germany\", \"India\", \"England\"]\n",
    "print(f\"\\nInitial countries: {countries}\")\n",
    "countries.clear() # This removes all values from the countries list\n",
    "print(f\"Modified countries: {countries}\") # 8th example"
   ]
  },
  {
   "cell_type": "code",
   "execution_count": 7,
   "id": "9a9b09c0",
   "metadata": {},
   "outputs": [
    {
     "name": "stdout",
     "output_type": "stream",
     "text": [
      "Initial letters: ['A', 'B', 'C', 'D', 'E', 'F', 'G']\n",
      "Modified letters: []\n"
     ]
    }
   ],
   "source": [
    "# Using clear to remove all values from a list\n",
    "letters = [\"A\", \"B\", \"C\", \"D\", \"E\", \"F\", \"G\"]\n",
    "print(f\"Initial letters: {letters}\")\n",
    "letters.clear() # This removes all values from the countries list\n",
    "print(f\"Modified letters: {letters}\") # 9th example"
   ]
  },
  {
   "cell_type": "code",
   "execution_count": 8,
   "id": "bd12423e",
   "metadata": {},
   "outputs": [
    {
     "name": "stdout",
     "output_type": "stream",
     "text": [
      "This is the initial dates list\n",
      " 31/12/20\n",
      " 21/02/22\n",
      " 19/07/18\n",
      " 06/12/21\n",
      " 10/09/16\n",
      "This is cleared dates list []\n"
     ]
    }
   ],
   "source": [
    "# Clearing dates from datelist\n",
    "import datetime as dt # This module is required for dates\n",
    "dates = [] # Empty list contains no items. I will use append to fill new dates into the list.\n",
    "# Adding new dates to the dates list\n",
    "dates.append(dt.date(2020,12,31))\n",
    "dates.append(dt.date(2022,2,21))\n",
    "dates.append(dt.date(2018,7,19))\n",
    "dates.append(dt.date(2021,12,6))\n",
    "dates.append(dt.date(2016,9,10))\n",
    "# Showing dates output\n",
    "print(\"This is the initial dates list\")\n",
    "for date in dates:\n",
    "    print(f\"{date: %d/%m/%y}\")\n",
    "dates.clear() # This removes all values from the dates list\n",
    "print(f\"This is cleared dates list {dates}\") #10th example"
   ]
  },
  {
   "cell_type": "markdown",
   "id": "f0b234c5",
   "metadata": {},
   "source": [
    "# List Method 7: count"
   ]
  },
  {
   "cell_type": "markdown",
   "id": "38b319bb",
   "metadata": {},
   "source": [
    "> count method allows one to count how many times an item appears in a list"
   ]
  },
  {
   "cell_type": "code",
   "execution_count": 11,
   "id": "6c351f6c",
   "metadata": {},
   "outputs": [
    {
     "name": "stdout",
     "output_type": "stream",
     "text": [
      "Initial scores: [88, 92, 78, 88, 90, 98, 84, 98, 88, 76, 90]\n",
      "There are 3 '88' in the scores list\n"
     ]
    }
   ],
   "source": [
    "# Using count to count the frequency of values in a list\n",
    "scores = [88, 92, 78, 88, 90, 98, 84, 98, 88, 76, 90]\n",
    "print(f\"Initial scores: {scores}\")\n",
    "count_88 = scores.count(88) # This count frequency of 88 in the scores list\n",
    "print(f\"There are {count_88} '88' in the scores list\") # 1st example"
   ]
  },
  {
   "cell_type": "code",
   "execution_count": 13,
   "id": "79c989aa",
   "metadata": {},
   "outputs": [
    {
     "name": "stdout",
     "output_type": "stream",
     "text": [
      "Initial ratings: [3.4, 2.9, 3.9, 4.5, 4, 2.4, 6.8, 2.9, 4.5]\n",
      "There are 2 '4.5' in the ratings list\n"
     ]
    }
   ],
   "source": [
    "# Using count to count the frequency of values in a list\n",
    "ratings = [3.4, 2.9, 3.9, 4.5, 4, 2.4, 6.8, 2.9, 4.5]\n",
    "print(f\"Initial ratings: {ratings}\")\n",
    "count_4_5 = ratings.count(4.5) # This count frequency of 4.5 in the ratings list\n",
    "print(f\"There are {count_4_5} '4.5' in the ratings list\") # 2nd example"
   ]
  },
  {
   "cell_type": "code",
   "execution_count": 15,
   "id": "99d71d2b",
   "metadata": {},
   "outputs": [
    {
     "name": "stdout",
     "output_type": "stream",
     "text": [
      "Initial students: ['Mark', 'Amber', 'Todd', 'Anita', 'Sandy']\n",
      "There are 1 'Anita' in the students list\n",
      "\n",
      "Initial drivers: ['Huey', 'Dewey', 'Louie', 'Nader', 'Bubba']\n",
      "There are 0 'John' in the drivers list\n"
     ]
    }
   ],
   "source": [
    "# Using count to count the frequency of values in a list\n",
    "students = [\"Mark\", \"Amber\", \"Todd\", \"Anita\", \"Sandy\"]\n",
    "print(f\"Initial students: {students}\")\n",
    "count_anita = students.count(\"Anita\") # This count frequency of Anita in the students list\n",
    "print(f\"There are {count_anita} 'Anita' in the students list\") # 3rd example\n",
    "\n",
    "drivers = [\"Huey\", \"Dewey\", \"Louie\", \"Nader\", \"Bubba\"]\n",
    "print(f\"\\nInitial drivers: {drivers}\")\n",
    "count_john = drivers.count(\"John\") # This counts frequency of John in the drivers list\n",
    "print(f\"There are {count_john} 'John' in the drivers list\") # 4th example"
   ]
  },
  {
   "cell_type": "code",
   "execution_count": 17,
   "id": "9cd0c892",
   "metadata": {},
   "outputs": [
    {
     "name": "stdout",
     "output_type": "stream",
     "text": [
      "\n",
      "Initial animals: ['dog', 'cat', 'goat', 'chicken', 'goat', 'duck', 'dog', 'goat', 'cat']\n",
      "There are 3 'goat' in the animals list\n",
      "There are 2 'dog' in the animals list\n"
     ]
    }
   ],
   "source": [
    "# Using count to count the frequency of values in a list\n",
    "animals = [\"dog\", \"cat\", \"goat\", \"chicken\", \"goat\", \"duck\", \"dog\", \"goat\", \"cat\"]\n",
    "print(f\"\\nInitial animals: {animals}\")\n",
    "count_goat = animals.count(\"goat\") # This counts frequency of goat in the animals list\n",
    "print(f\"There are {count_goat} 'goat' in the animals list\") # 5th example\n",
    "\n",
    "count_dog = animals.count(\"dog\") # This counts frequency of dog in the animals list\n",
    "print(f\"There are {count_dog} 'dog' in the animals list\") # 6th example"
   ]
  },
  {
   "cell_type": "code",
   "execution_count": 20,
   "id": "3b86ab4f",
   "metadata": {},
   "outputs": [
    {
     "name": "stdout",
     "output_type": "stream",
     "text": [
      "Initial students: ['Mark', 'Amber', 'Todd', 'Anita', 'Sandy', 'Mark', 'James', 'Anita']\n",
      "There are 2 'Anita' in the students list\n",
      "\n",
      "Initial drivers: ['Huey', 'Dewey', 'Louie', 'Nader', 'Bubba']\n",
      "There are 1 'Bubba' in the drivers list\n"
     ]
    }
   ],
   "source": [
    "# Using a variable name  as the count argument\n",
    "students = [\"Mark\", \"Amber\", \"Todd\", \"Anita\", \"Sandy\", \"Mark\", \"James\", \"Anita\"]\n",
    "print(f\"Initial students: {students}\")\n",
    "student = \"Anita\"\n",
    "count_anita = students.count(student) # This count frequency of Anita in the students list\n",
    "print(f\"There are {count_anita} 'Anita' in the students list\") # 7th example\n",
    "\n",
    "drivers = [\"Huey\", \"Dewey\", \"Louie\", \"Nader\", \"Bubba\"]\n",
    "print(f\"\\nInitial drivers: {drivers}\")\n",
    "driver = \"Bubba\"\n",
    "count_bubba = drivers.count(driver) # This count frequency of Bubba in the drivers list\n",
    "print(f\"There are {count_bubba} 'Bubba' in the drivers list\") # 8th example\n"
   ]
  },
  {
   "cell_type": "code",
   "execution_count": 22,
   "id": "91788dfe",
   "metadata": {},
   "outputs": [
    {
     "name": "stdout",
     "output_type": "stream",
     "text": [
      "Initial letters: ['A', 'B', 'C', 'D', 'C', 'E', 'C', 'F', 'C', 'G', 'C']\n",
      "There are 5 'C' in the letters list\n"
     ]
    }
   ],
   "source": [
    "# Using count to count the frequency of values in a list\n",
    "letters = [\"A\", \"B\", \"C\", \"D\", \"C\", \"E\", \"C\", \"F\", \"C\", \"G\", \"C\"]\n",
    "print(f\"Initial letters: {letters}\")\n",
    "c_count = letters.count(\"C\") # This count frequency of C in the letters list\n",
    "print(f\"There are {c_count} 'C' in the letters list\") # 9th example"
   ]
  },
  {
   "cell_type": "code",
   "execution_count": 25,
   "id": "6829d8a9",
   "metadata": {},
   "outputs": [
    {
     "name": "stdout",
     "output_type": "stream",
     "text": [
      "This is the initial dates list\n",
      " 31/12/20\n",
      " 21/02/22\n",
      " 19/07/18\n",
      " 06/12/21\n",
      " 10/09/16\n",
      "\n",
      "'06/12/21' appears 1 time(s) in the dates list\n"
     ]
    }
   ],
   "source": [
    "# Counting number of dates in a datelist\n",
    "import datetime as dt # This module is required for dates\n",
    "dates = [] # Empty list contains no items. I will use append to fill new dates into the list.\n",
    "# Adding new dates to the dates list\n",
    "dates.append(dt.date(2020,12,31))\n",
    "dates.append(dt.date(2022,2,21))\n",
    "dates.append(dt.date(2018,7,19))\n",
    "dates.append(dt.date(2021,12,6))\n",
    "dates.append(dt.date(2016,9,10))\n",
    "# Showing dates output\n",
    "print(\"This is the initial dates list\")\n",
    "for date in dates:\n",
    "    print(f\"{date: %d/%m/%y}\")\n",
    "date = dt.date(2021,12,6)\n",
    "date_count = dates.count(date)\n",
    "print(f\"\\n'{date:%d/%m/%y}' appears {date_count} time(s) in the dates list\") #10th example"
   ]
  },
  {
   "cell_type": "markdown",
   "id": "5515fc5d",
   "metadata": {},
   "source": [
    "# List method 8: index"
   ]
  },
  {
   "cell_type": "markdown",
   "id": "889f9652",
   "metadata": {},
   "source": [
    "> index method returns a number indicating the position of an item in a list, based on the index number. If the item appears more than once it returns the position of the first match"
   ]
  },
  {
   "cell_type": "code",
   "execution_count": 28,
   "id": "ec6a0c3e",
   "metadata": {},
   "outputs": [
    {
     "name": "stdout",
     "output_type": "stream",
     "text": [
      "Initial scores: [88, 92, 78, 88, 90, 98, 84, 98, 88, 76, 90]\n",
      "'88' has an index number of 0 in the scores list\n"
     ]
    }
   ],
   "source": [
    "# Using index to locate the position of values in a list\n",
    "scores = [88, 92, 78, 88, 90, 98, 84, 98, 88, 76, 90]\n",
    "print(f\"Initial scores: {scores}\")\n",
    "index_88 = scores.index(88) # This returns the index number of 88 in the scores list\n",
    "print(f\"'88' has an index number of {index_88} in the scores list\") # 1st example"
   ]
  },
  {
   "cell_type": "code",
   "execution_count": 29,
   "id": "0aea9ce3",
   "metadata": {},
   "outputs": [
    {
     "name": "stdout",
     "output_type": "stream",
     "text": [
      "Initial ratings: [3.4, 2.9, 3.9, 4.5, 4, 2.4, 6.8, 2.9, 4.5]\n",
      "'4.5' has an index number of 3 in the ratings list\n"
     ]
    }
   ],
   "source": [
    "# Using index to locate the position of values in a list\n",
    "ratings = [3.4, 2.9, 3.9, 4.5, 4, 2.4, 6.8, 2.9, 4.5]\n",
    "print(f\"Initial ratings: {ratings}\")\n",
    "index_4_5 = ratings.index(4.5) # This returns the index number of 4.5 in the ratings list\n",
    "print(f\"'4.5' has an index number of {index_4_5} in the ratings list\") # 2nd example"
   ]
  },
  {
   "cell_type": "code",
   "execution_count": 32,
   "id": "a3ffa188",
   "metadata": {},
   "outputs": [
    {
     "name": "stdout",
     "output_type": "stream",
     "text": [
      "Initial students: ['Mark', 'Amber', 'Todd', 'Anita', 'Sandy']\n",
      "'Anita' has an index number of 3 in the students list\n",
      "\n",
      "Initial drivers: ['Huey', 'Dewey', 'Louie', 'Nader', 'Bubba']\n",
      "'Dewey' has an index number of 1 in the drivers list\n"
     ]
    }
   ],
   "source": [
    "# Using index to locate the position of values in a list\n",
    "students = [\"Mark\", \"Amber\", \"Todd\", \"Anita\", \"Sandy\"]\n",
    "print(f\"Initial students: {students}\")\n",
    "index_anita = students.index(\"Anita\") # This returns the index number of Anita in the students list\n",
    "print(f\"'Anita' has an index number of {index_anita} in the students list\") # 3rd example\n",
    "\n",
    "drivers = [\"Huey\", \"Dewey\", \"Louie\", \"Nader\", \"Bubba\"]\n",
    "print(f\"\\nInitial drivers: {drivers}\")\n",
    "index_dewey = drivers.index(\"Dewey\") # This returns the index number of Dewey in the drivers list\n",
    "print(f\"'Dewey' has an index number of {index_dewey} in the drivers list\") # 4th example"
   ]
  },
  {
   "cell_type": "code",
   "execution_count": 33,
   "id": "b5ed1353",
   "metadata": {},
   "outputs": [
    {
     "name": "stdout",
     "output_type": "stream",
     "text": [
      "\n",
      "Initial animals: ['dog', 'cat', 'goat', 'chicken', 'goat', 'duck', 'dog', 'goat', 'cat']\n",
      "'goat' has an index number of 2 in the animals list\n",
      "'dog' has an index number of 0 in the animals list\n"
     ]
    }
   ],
   "source": [
    "# Using index to locate the position of values in a list\n",
    "animals = [\"dog\", \"cat\", \"goat\", \"chicken\", \"goat\", \"duck\", \"dog\", \"goat\", \"cat\"]\n",
    "print(f\"\\nInitial animals: {animals}\")\n",
    "index_goat = animals.index(\"goat\")# This returns the index number of goat in the animals list\n",
    "print(f\"'goat' has an index number of {index_goat} in the animals list\") # 5th example\n",
    "\n",
    "index_dog = animals.index(\"dog\") # This returns the index number of dog in the animals list\n",
    "print(f\"'dog' has an index number of {index_dog} in the animals list\") # 6th example"
   ]
  },
  {
   "cell_type": "code",
   "execution_count": 34,
   "id": "3cc9abd3",
   "metadata": {},
   "outputs": [
    {
     "name": "stdout",
     "output_type": "stream",
     "text": [
      "Initial students: ['Mark', 'Amber', 'Todd', 'Anita', 'Sandy', 'Mark', 'James', 'Anita']\n",
      "'Anita' has an index number of 3 in the students list\n",
      "\n",
      "Initial drivers: ['Huey', 'Dewey', 'Louie', 'Nader', 'Bubba']\n",
      "'Bubba' has an index number of 4 in the drivers list\n"
     ]
    }
   ],
   "source": [
    "# Using a variable name  as the index argument\n",
    "students = [\"Mark\", \"Amber\", \"Todd\", \"Anita\", \"Sandy\", \"Mark\", \"James\", \"Anita\"]\n",
    "print(f\"Initial students: {students}\")\n",
    "student = \"Anita\"\n",
    "index_anita = students.index(student) # This returns the index number of Anita in the students list\n",
    "print(f\"'Anita' has an index number of {index_anita} in the students list\") # 7th example\n",
    "\n",
    "drivers = [\"Huey\", \"Dewey\", \"Louie\", \"Nader\", \"Bubba\"]\n",
    "print(f\"\\nInitial drivers: {drivers}\")\n",
    "driver = \"Bubba\"\n",
    "index_bubba = drivers.index(driver) # This returns the index number of Bubba in the drivers list\n",
    "print(f\"'Bubba' has an index number of {index_bubba} in the drivers list\") # 8th example"
   ]
  },
  {
   "cell_type": "code",
   "execution_count": 35,
   "id": "34e790bb",
   "metadata": {},
   "outputs": [
    {
     "name": "stdout",
     "output_type": "stream",
     "text": [
      "Initial letters: ['A', 'B', 'C', 'D', 'C', 'E', 'C', 'F', 'C', 'G', 'C']\n",
      "'C' has an index number of 2 in the letters list\n"
     ]
    }
   ],
   "source": [
    "# Using index to locate the position of values in a list\n",
    "letters = [\"A\", \"B\", \"C\", \"D\", \"C\", \"E\", \"C\", \"F\", \"C\", \"G\", \"C\"]\n",
    "print(f\"Initial letters: {letters}\")\n",
    "c_index = letters.index(\"C\") # This returns the index number of C in the letters list\n",
    "print(f\"'C' has an index number of {c_index} in the letters list\") # 9th example"
   ]
  },
  {
   "cell_type": "code",
   "execution_count": 36,
   "id": "58407307",
   "metadata": {},
   "outputs": [
    {
     "name": "stdout",
     "output_type": "stream",
     "text": [
      "This is the initial dates list\n",
      " 31/12/20\n",
      " 21/02/22\n",
      " 19/07/18\n",
      " 06/12/21\n",
      " 10/09/16\n",
      "\n",
      "'06/12/21' has an index number of 3 in the dates list\n"
     ]
    }
   ],
   "source": [
    "# Geeting index number of dates in a datelist\n",
    "import datetime as dt # This module is required for dates\n",
    "dates = [] # Empty list contains no items. I will use append to fill new dates into the list.\n",
    "# Adding new dates to the dates list\n",
    "dates.append(dt.date(2020,12,31))\n",
    "dates.append(dt.date(2022,2,21))\n",
    "dates.append(dt.date(2018,7,19))\n",
    "dates.append(dt.date(2021,12,6))\n",
    "dates.append(dt.date(2016,9,10))\n",
    "# Showing dates output\n",
    "print(\"This is the initial dates list\")\n",
    "for date in dates:\n",
    "    print(f\"{date: %d/%m/%y}\")\n",
    "date = dt.date(2021,12,6)\n",
    "date_index = dates.index(date)\n",
    "print(f\"\\n'{date:%d/%m/%y}' has an index number of {date_index} in the dates list\") #10th example"
   ]
  },
  {
   "cell_type": "markdown",
   "id": "fe100a61",
   "metadata": {},
   "source": [
    "# List Method 9: sort"
   ]
  },
  {
   "cell_type": "markdown",
   "id": "9322738c",
   "metadata": {},
   "source": [
    "> sort method arranges items in a list in either ascending or descending order"
   ]
  },
  {
   "cell_type": "code",
   "execution_count": 38,
   "id": "bf1c8b9d",
   "metadata": {},
   "outputs": [
    {
     "name": "stdout",
     "output_type": "stream",
     "text": [
      "Initial scores: [88, 92, 78, 90, 98, 84]\n",
      "Modified scores: [78, 84, 88, 90, 92, 98]\n"
     ]
    }
   ],
   "source": [
    "# Using sort to arrange integer values in a ascending order in a list\n",
    "scores = [88, 92, 78, 90, 98, 84]\n",
    "print(f\"Initial scores: {scores}\")\n",
    "scores.sort() # This arranges the values in ascending order\n",
    "print(f\"Modified scores: {scores}\") # 1st example\n"
   ]
  },
  {
   "cell_type": "code",
   "execution_count": 41,
   "id": "443a4f42",
   "metadata": {},
   "outputs": [
    {
     "name": "stdout",
     "output_type": "stream",
     "text": [
      "Initial ratings: [3.4, 2.9, 3.9, 4.5, 4, 2.4]\n",
      "Modified ratings: [4.5, 4, 3.9, 3.4, 2.9, 2.4]\n"
     ]
    }
   ],
   "source": [
    "# Using sort to arrange float values in a descending order in a list\n",
    "ratings = [3.4, 2.9, 3.9, 4.5, 4, 2.4]\n",
    "print(f\"Initial ratings: {ratings}\")\n",
    "ratings.sort(reverse = True) # This arranges the values in descending order\n",
    "print(f\"Modified ratings: {ratings}\") # 2nd example\n"
   ]
  },
  {
   "cell_type": "code",
   "execution_count": 42,
   "id": "4732ba00",
   "metadata": {},
   "outputs": [
    {
     "name": "stdout",
     "output_type": "stream",
     "text": [
      "Initial names: ['Mark', 'Amber', 'Todd', 'Anita', 'Sandy']\n",
      "Modified names: ['Amber', 'Anita', 'Mark', 'Sandy', 'Todd']\n"
     ]
    }
   ],
   "source": [
    "# Using sort to arrange strings in alphabetical order in a list\n",
    "names = [\"Mark\", \"Amber\", \"Todd\", \"Anita\", \"Sandy\"]\n",
    "print(f\"Initial names: {names}\")\n",
    "names.sort() # This arranges the values in alphabetically\n",
    "print(f\"Modified names: {names}\") # 3rd example\n"
   ]
  },
  {
   "cell_type": "code",
   "execution_count": 44,
   "id": "7921acf9",
   "metadata": {},
   "outputs": [
    {
     "name": "stdout",
     "output_type": "stream",
     "text": [
      "Initial animals: ['dog', 'cat', 'goat', 'chicken', 'duck']\n",
      "Modified names: ['goat', 'duck', 'dog', 'chicken', 'cat']\n"
     ]
    }
   ],
   "source": [
    "# Using sort to arrange strings in reverse alphabetical order in a list\n",
    "animals = [\"dog\", \"cat\", \"goat\", \"chicken\", \"duck\"]\n",
    "print(f\"Initial animals: {animals}\")\n",
    "animals.sort(reverse = True) # This arranges the values in reverse alphabetical order\n",
    "print(f\"Modified names: {animals}\") # 4th example"
   ]
  },
  {
   "cell_type": "code",
   "execution_count": 46,
   "id": "3ca3f3da",
   "metadata": {},
   "outputs": [
    {
     "name": "stdout",
     "output_type": "stream",
     "text": [
      "Initial letters: ['A', 'B', 'C', 'D', 'C', 'E', 'C', 'F', 'C', 'G', 'C']\n",
      "Rearranged (a-z) letters: ['A', 'B', 'C', 'C', 'C', 'C', 'C', 'D', 'E', 'F', 'G']\n",
      "Rearranged (z-a) letters: ['G', 'F', 'E', 'D', 'C', 'C', 'C', 'C', 'C', 'B', 'A']\n"
     ]
    }
   ],
   "source": [
    "# Using sort to organize the position of values in a list\n",
    "letters = [\"A\", \"B\", \"C\", \"D\", \"C\", \"E\", \"C\", \"F\", \"C\", \"G\", \"C\"]\n",
    "print(f\"Initial letters: {letters}\")\n",
    "letters.sort()  # This arranges the values in alphabetically\n",
    "print(f\"Rearranged (a-z) letters: {letters}\") # 5th example\n",
    "\n",
    "letters.sort(reverse = True) # This arranges the values in reverse alphabetical order\n",
    "print(f\"Rearranged (z-a) letters: {letters}\") # 6th example\n"
   ]
  },
  {
   "cell_type": "code",
   "execution_count": 47,
   "id": "64a057db",
   "metadata": {},
   "outputs": [
    {
     "name": "stdout",
     "output_type": "stream",
     "text": [
      "Initial students: ['Mark', 'Amber', 'Todd', 'Anita', 'Sandy', 'Mark', 'James', 'Anita']\n",
      "Rearranged (a-z) students: ['Amber', 'Anita', 'Anita', 'James', 'Mark', 'Mark', 'Sandy', 'Todd']\n",
      "\n",
      "Initial drivers: ['Huey', 'Dewey', 'Louie', 'Nader', 'Bubba']\n",
      "Rearranged (z-a) drivers: ['Nader', 'Louie', 'Huey', 'Dewey', 'Bubba']\n"
     ]
    }
   ],
   "source": [
    "# Using sort to further arrange items in a list\n",
    "students = [\"Mark\", \"Amber\", \"Todd\", \"Anita\", \"Sandy\", \"Mark\", \"James\", \"Anita\"]\n",
    "print(f\"Initial students: {students}\")\n",
    "students.sort() # This arranges the values in alphabetically\n",
    "print(f\"Rearranged (a-z) students: {students}\") # 7th example\n",
    "\n",
    "drivers = [\"Huey\", \"Dewey\", \"Louie\", \"Nader\", \"Bubba\"]\n",
    "print(f\"\\nInitial drivers: {drivers}\")\n",
    "drivers.sort(reverse = True) # This arranges the values in reverse alphabetical order\n",
    "print(f\"Rearranged (z-a) drivers: {drivers}\") # 8th example"
   ]
  },
  {
   "cell_type": "code",
   "execution_count": 49,
   "id": "316bd98a",
   "metadata": {},
   "outputs": [
    {
     "name": "stdout",
     "output_type": "stream",
     "text": [
      "Dates arranged from earliest to latest\n",
      " 09/10/16\n",
      " 07/19/18\n",
      " 12/31/20\n",
      " 12/06/21\n",
      " 02/21/22\n",
      "\n",
      "Initial birthdays: []\n",
      "Birthdays arranged from latest to earliest\n",
      "06/12/02\n",
      "15/09/96\n",
      "17/02/92\n",
      "21/09/89\n"
     ]
    }
   ],
   "source": [
    "# Using sort to arrange dates from earliest to latest and vice versa\n",
    "import datetime as dt # This module is required for dates\n",
    "\n",
    "dates = [] # Empty list contains no items. I will use append to fill new dates into the list.\n",
    "# Adding new dates to the dates list\n",
    "dates.append(dt.date(2020,12,31))\n",
    "dates.append(dt.date(2022,2,21))\n",
    "dates.append(dt.date(2018,7,19))\n",
    "dates.append(dt.date(2021,12,6))\n",
    "dates.append(dt.date(2016,9,10))\n",
    "# Sorting dates from earliest to latest\n",
    "dates.sort()\n",
    "# Showing dates output \n",
    "print(\"Dates arranged from earliest to latest\")\n",
    "for date in dates:\n",
    "    print(f\"{date: %m/%d/%y}\") # 9th example\n",
    "    \n",
    "birthdays = []\n",
    "print(f\"\\nInitial birthdays: {birthdays}\")\n",
    "# Adding new items to the birthdays list\n",
    "birthdays.append(dt.date(1992,2,17))\n",
    "birthdays.append(dt.date(1989,9,21))\n",
    "birthdays.append(dt.date(2002,12,6))\n",
    "birthdays.append(dt.date(1996,9,15))\n",
    "# Sorting birthdays from latest to earliest\n",
    "birthdays.sort(reverse = True)\n",
    "# Showing birthdays output\n",
    "print(\"Birthdays arranged from latest to earliest\")\n",
    "for birthday in birthdays:\n",
    "    print(f\"{birthday:%d/%m/%y}\")  # 10th example"
   ]
  },
  {
   "cell_type": "markdown",
   "id": "de76350a",
   "metadata": {},
   "source": [
    "# List Method 10: reverse"
   ]
  },
  {
   "cell_type": "markdown",
   "id": "ff6ea8e6",
   "metadata": {},
   "source": [
    "> reverse method reverses the position of items in a list without arranging them in any particular order. "
   ]
  },
  {
   "cell_type": "code",
   "execution_count": 50,
   "id": "3c4d566a",
   "metadata": {},
   "outputs": [
    {
     "name": "stdout",
     "output_type": "stream",
     "text": [
      "Initial scores: [88, 92, 78, 90, 98, 84]\n",
      "Modified scores: [84, 98, 90, 78, 92, 88]\n"
     ]
    }
   ],
   "source": [
    "# Using reverse to reverse position of integer values in a list\n",
    "scores = [88, 92, 78, 90, 98, 84]\n",
    "print(f\"Initial scores: {scores}\")\n",
    "scores.reverse() # This reverses the position of the values\n",
    "print(f\"Modified scores: {scores}\") # 1st example\n"
   ]
  },
  {
   "cell_type": "code",
   "execution_count": 51,
   "id": "cb716e7f",
   "metadata": {},
   "outputs": [
    {
     "name": "stdout",
     "output_type": "stream",
     "text": [
      "Initial ratings: [3.4, 2.9, 3.9, 4.5, 4, 2.4]\n",
      "Modified ratings: [2.4, 4, 4.5, 3.9, 2.9, 3.4]\n"
     ]
    }
   ],
   "source": [
    "# Using reverse to reverse position of float values in a list\n",
    "ratings = [3.4, 2.9, 3.9, 4.5, 4, 2.4]\n",
    "print(f\"Initial ratings: {ratings}\")\n",
    "ratings.reverse() # This reverses the position of the values\n",
    "print(f\"Modified ratings: {ratings}\") # 2nd example\n"
   ]
  },
  {
   "cell_type": "code",
   "execution_count": 65,
   "id": "fa074619",
   "metadata": {},
   "outputs": [
    {
     "name": "stdout",
     "output_type": "stream",
     "text": [
      "Initial names: ['Mark', 'Amber', 'Todd', 'Anita', 'Sandy']\n",
      "Modified names: ['Sandy', 'Anita', 'Todd', 'Amber', 'Mark']\n",
      "\n",
      "Initial animals: ['dog', 'cat', 'goat', 'chicken', 'duck']\n",
      "Modified animals: ['duck', 'chicken', 'goat', 'cat', 'dog']\n"
     ]
    }
   ],
   "source": [
    "# Using reverse to reverse position of string values in a list\n",
    "names = [\"Mark\", \"Amber\", \"Todd\", \"Anita\", \"Sandy\"]\n",
    "print(f\"Initial names: {names}\")\n",
    "names.reverse()  # This reverses the position of the values\n",
    "print(f\"Modified names: {names}\") # 3rd example\n",
    "\n",
    "animals = [\"dog\", \"cat\", \"goat\", \"chicken\", \"duck\"]\n",
    "print(f\"\\nInitial animals: {animals}\")\n",
    "animals.reverse() # This reverses the position of the values\n",
    "print(f\"Modified animals: {animals}\") # 4th example"
   ]
  },
  {
   "cell_type": "code",
   "execution_count": 61,
   "id": "1e33d486",
   "metadata": {},
   "outputs": [
    {
     "name": "stdout",
     "output_type": "stream",
     "text": [
      "Initial letters: ['A', 'B', 'C', 'D', 'C', 'E', 'C', 'F', 'C', 'G', 'C']\n",
      "Reversed letters: ['C', 'G', 'C', 'F', 'C', 'E', 'C', 'D', 'C', 'B', 'A']\n",
      "\n",
      "Initial countries: ['Nigeria', 'Mali', 'Germany', 'India', 'England']\n",
      "Reversed countries: ['England', 'India', 'Germany', 'Mali', 'Nigeria']\n"
     ]
    }
   ],
   "source": [
    "# Using reverse to reverse the position of values in a list\n",
    "letters = [\"A\", \"B\", \"C\", \"D\", \"C\", \"E\", \"C\", \"F\", \"C\", \"G\", \"C\"]\n",
    "print(f\"Initial letters: {letters}\")\n",
    "letters.reverse()  # This reverses the position of the values\n",
    "print(f\"Reversed letters: {letters}\") # 5th example\n",
    "\n",
    "countries = [\"Nigeria\", \"Mali\", \"Germany\", \"India\", \"England\"]\n",
    "print(f\"\\nInitial countries: {countries}\")\n",
    "countries.reverse() # This reverses the position of the values\n",
    "print(f\"Reversed countries: {countries}\") # 6th example"
   ]
  },
  {
   "cell_type": "code",
   "execution_count": 66,
   "id": "047047d5",
   "metadata": {},
   "outputs": [
    {
     "name": "stdout",
     "output_type": "stream",
     "text": [
      "Initial students: ['Mark', 'Amber', 'Todd', 'Anita', 'Sandy', 'Mark', 'James', 'Anita']\n",
      "Reversed students: ['Anita', 'James', 'Mark', 'Sandy', 'Anita', 'Todd', 'Amber', 'Mark']\n",
      "\n",
      "Initial drivers: ['Huey', 'Dewey', 'Louie', 'Nader', 'Bubba']\n",
      "Reversed drivers: ['Bubba', 'Nader', 'Louie', 'Dewey', 'Huey']\n"
     ]
    }
   ],
   "source": [
    "# Using reverse to further reverse items in a list\n",
    "students = [\"Mark\", \"Amber\", \"Todd\", \"Anita\", \"Sandy\", \"Mark\", \"James\", \"Anita\"]\n",
    "print(f\"Initial students: {students}\")\n",
    "students.reverse() # This reverses the position of the values\n",
    "print(f\"Reversed students: {students}\") # 7th example\n",
    "\n",
    "drivers = [\"Huey\", \"Dewey\", \"Louie\", \"Nader\", \"Bubba\"]\n",
    "print(f\"\\nInitial drivers: {drivers}\")\n",
    "drivers.reverse() # This reverses the position of the values\n",
    "print(f\"Reversed drivers: {drivers}\") # 8th example"
   ]
  },
  {
   "cell_type": "code",
   "execution_count": 60,
   "id": "c43b3f2a",
   "metadata": {},
   "outputs": [
    {
     "name": "stdout",
     "output_type": "stream",
     "text": [
      "List initially contains dates in this order \n",
      "31/12/20\n",
      "21/02/22\n",
      "19/07/18\n",
      "06/12/21\n",
      "10/09/16\n",
      "\n",
      "List reversed contains dates in this order\n",
      " 10/09/16\n",
      " 06/12/21\n",
      " 19/07/18\n",
      " 21/02/22\n",
      " 31/12/20\n",
      "\n",
      "List initially contains birthdays in this order \n",
      "17/02/92\n",
      "21/09/89\n",
      "06/12/02\n",
      "15/09/96\n",
      "\n",
      "List reversed contains birthdays in this order\n",
      "15/09/96\n",
      "06/12/02\n",
      "21/09/89\n",
      "17/02/92\n"
     ]
    }
   ],
   "source": [
    "# Using reverse to reverse dates in a list\n",
    "import datetime as dt # This module is required for dates\n",
    "\n",
    "dates = [] # Empty list contains no items. I will use append to fill new dates into the list.\n",
    "# Adding new dates to the dates list\n",
    "dates.append(dt.date(2020,12,31))\n",
    "dates.append(dt.date(2022,2,21))\n",
    "dates.append(dt.date(2018,7,19))\n",
    "dates.append(dt.date(2021,12,6))\n",
    "dates.append(dt.date(2016,9,10))\n",
    "# Show output of initial list\n",
    "print(\"List initially contains dates in this order \")\n",
    "for date in dates:\n",
    "    print(f\"{date:%d/%m/%y}\")\n",
    "    \n",
    "# reversing dates \n",
    "dates.reverse()\n",
    "# Showing reversed dates output \n",
    "print(\"\\nList reversed contains dates in this order\")\n",
    "for date in dates:\n",
    "    print(f\"{date: %d/%m/%y}\") # 9th example\n",
    "    \n",
    "birthdays = []\n",
    "# Adding new items to the birthdays list\n",
    "birthdays.append(dt.date(1992,2,17))\n",
    "birthdays.append(dt.date(1989,9,21))\n",
    "birthdays.append(dt.date(2002,12,6))\n",
    "birthdays.append(dt.date(1996,9,15))\n",
    "# Show output of initial list\n",
    "print(\"\\nList initially contains birthdays in this order \")\n",
    "for birthday in birthdays:\n",
    "    print(f\"{birthday:%d/%m/%y}\")\n",
    "    \n",
    "# reversing birthdays\n",
    "birthdays.reverse()\n",
    "# Showing reversed dates output \n",
    "print(\"\\nList reversed contains birthdays in this order\")\n",
    "for birthday in birthdays:\n",
    "    print(f\"{birthday:%d/%m/%y}\")  # 10th example"
   ]
  },
  {
   "cell_type": "markdown",
   "id": "d898d510",
   "metadata": {},
   "source": [
    "# List method 11: copy"
   ]
  },
  {
   "cell_type": "markdown",
   "id": "30114cbe",
   "metadata": {},
   "source": [
    "> copy method allows one to make a copy of the original list and making alterations to the copied version without altering the original list"
   ]
  },
  {
   "cell_type": "code",
   "execution_count": 64,
   "id": "384e017e",
   "metadata": {},
   "outputs": [
    {
     "name": "stdout",
     "output_type": "stream",
     "text": [
      "Initial scores: [88, 92, 78, 90, 98, 84]\n",
      "Copied scores: [84, 98, 90, 78, 92, 88]\n",
      "\n",
      "Initial ratings: [3.4, 2.9, 3.9, 4.5, 4, 2.4]\n",
      "Copied ratings: [2.4, 4, 4.5, 3.9, 2.9, 3.4]\n"
     ]
    }
   ],
   "source": [
    "# Copying and reversing numbers of copied list\n",
    "scores = [88, 92, 78, 90, 98, 84]\n",
    "backwared_scores = scores.copy() # This copies the scores list\n",
    "backwared_scores.reverse() # This reverses the position of the values\n",
    "print(f\"Initial scores: {scores}\")\n",
    "print(f\"Copied scores: {backwared_scores}\") # 1st example\n",
    "\n",
    "ratings = [3.4, 2.9, 3.9, 4.5, 4, 2.4]\n",
    "back_ratings = ratings.copy() # This copies the ratings list\n",
    "back_ratings.reverse() # This reverses the position of the values\n",
    "print(f\"\\nInitial ratings: {ratings}\")\n",
    "print(f\"Copied ratings: {back_ratings}\") # 2nd example\n"
   ]
  },
  {
   "cell_type": "code",
   "execution_count": 67,
   "id": "0af47279",
   "metadata": {},
   "outputs": [
    {
     "name": "stdout",
     "output_type": "stream",
     "text": [
      "Initial names: ['Mark', 'Amber', 'Todd', 'Anita', 'Sandy']\n",
      "Copied names: ['Sandy', 'Anita', 'Todd', 'Amber', 'Mark']\n",
      "\n",
      "Initial animals: ['dog', 'cat', 'goat', 'chicken', 'duck']\n",
      "Copied animals: ['duck', 'chicken', 'goat', 'cat', 'dog']\n"
     ]
    }
   ],
   "source": [
    "# Copying and reversing strings of copied list\n",
    "names = [\"Mark\", \"Amber\", \"Todd\", \"Anita\", \"Sandy\"]\n",
    "back_names = names.copy()  # This copies the names list\n",
    "back_names.reverse()  # This reverses the position of the values\n",
    "print(f\"Initial names: {names}\")\n",
    "print(f\"Copied names: {back_names}\") # 3rd example\n",
    "\n",
    "animals = [\"dog\", \"cat\", \"goat\", \"chicken\", \"duck\"]\n",
    "back_animals = animals.copy()  # This copies the animals list\n",
    "back_animals.reverse() # This reverses the position of the values\n",
    "print(f\"\\nInitial animals: {animals}\")\n",
    "print(f\"Copied animals: {back_animals}\") # 4th example"
   ]
  },
  {
   "cell_type": "code",
   "execution_count": 69,
   "id": "cd9f90ca",
   "metadata": {},
   "outputs": [
    {
     "name": "stdout",
     "output_type": "stream",
     "text": [
      "Initial letters: ['A', 'B', 'C', 'D', 'C', 'E', 'C', 'F', 'C', 'G', 'C']\n",
      "Copied letters: ['A', 'B', 'C', 'C', 'C', 'C', 'C', 'D', 'E', 'F', 'G']\n",
      "\n",
      "Initial drivers: ['Huey', 'Dewey', 'Louie', 'Nader', 'Bubba']\n",
      "Copied drivers: ['Nader', 'Louie', 'Huey', 'Dewey', 'Bubba']\n"
     ]
    }
   ],
   "source": [
    "# Copying and sorting values of a copied list\n",
    "letters = [\"A\", \"B\", \"C\", \"D\", \"C\", \"E\", \"C\", \"F\", \"C\", \"G\", \"C\"]\n",
    "sort_letters = letters.copy() # This copies the letters list\n",
    "sort_letters.sort()  # This arranges the values in alphabetically\n",
    "print(f\"Initial letters: {letters}\")\n",
    "print(f\"Copied letters: {sort_letters}\") # 5th example\n",
    "\n",
    "drivers = [\"Huey\", \"Dewey\", \"Louie\", \"Nader\", \"Bubba\"]\n",
    "sort_drivers = drivers.copy() # This copies the drivers list\n",
    "sort_drivers.sort(reverse = True) # This arranges the values in reverse alphabetical order\n",
    "print(f\"\\nInitial drivers: {drivers}\")\n",
    "print(f\"Copied drivers: {sort_drivers}\") # 6th example\n"
   ]
  },
  {
   "cell_type": "code",
   "execution_count": 72,
   "id": "b1c37053",
   "metadata": {},
   "outputs": [
    {
     "name": "stdout",
     "output_type": "stream",
     "text": [
      "Initial animals: ['dog', 'cat', 'goat', 'chicken', 'duck']\n",
      "Copied animals: ['dog', 'cat', 'goat', 'chicken', 'duck', 'lion']\n",
      "\n",
      "Initial students: ['Mark', 'Amber', 'Todd', 'Anita', 'Sandy']\n",
      "Copied students: ['Mark', 'Amber', 'Todd', 'Anita', 'Sandy', 'James']\n"
     ]
    }
   ],
   "source": [
    "# Copying and adding values of a copied list\n",
    "animals = [\"dog\", \"cat\", \"goat\", \"chicken\", \"duck\"]\n",
    "copied_animals = animals.copy() # This copies the animals list\n",
    "copied_animals.append(\"lion\") # This adds lion at the end of copied animals list\n",
    "print(f\"Initial animals: {animals}\")\n",
    "print(f\"Copied animals: {copied_animals}\") # 7th example\n",
    "\n",
    "\n",
    "students = [\"Mark\", \"Amber\", \"Todd\", \"Anita\", \"Sandy\"]\n",
    "c_students = students.copy()# This copies the students list\n",
    "new_student = \"James\"\n",
    "c_students.append(new_student) # This adds the value assigned to the variable new_student at the end of students list\n",
    "print(f\"\\nInitial students: {students}\")\n",
    "print(f\"Copied students: {c_students}\") # 8th example"
   ]
  },
  {
   "cell_type": "code",
   "execution_count": 75,
   "id": "0f2cf0b9",
   "metadata": {},
   "outputs": [
    {
     "name": "stdout",
     "output_type": "stream",
     "text": [
      "Initial new_students: ['James', 'Caleb', 'Elizabeth', 'Kolawole']\n",
      "Copied new_students: ['Caleb', 'Elizabeth', 'Kolawole']\n",
      "\n",
      "Initial countries: ['Nigeria', 'Mali', 'Germany', 'India', 'England']\n",
      "Copied countries: []\n"
     ]
    }
   ],
   "source": [
    "# Copying and removing values of a copied list\n",
    "new_students = [\"James\", \"Caleb\", \"Elizabeth\", \"Kolawole\"]\n",
    "c_new_students = new_students.copy() #This copies the new_students list\n",
    "c_new_students.remove(\"James\") # This removes James from the copied new_students list\n",
    "print(f\"Initial new_students: {new_students}\")\n",
    "print(f\"Copied new_students: {c_new_students}\") #9th example\n",
    "\n",
    "countries = [\"Nigeria\", \"Mali\", \"Germany\", \"India\", \"England\"]\n",
    "c_countries = countries.copy() #This copies the countries list\n",
    "c_countries.clear() # This removes all values from the copied countries list\n",
    "print(f\"\\nInitial countries: {countries}\")\n",
    "print(f\"Copied countries: {c_countries}\") # 10th example"
   ]
  },
  {
   "cell_type": "code",
   "execution_count": null,
   "id": "ec3de005",
   "metadata": {},
   "outputs": [],
   "source": []
  }
 ],
 "metadata": {
  "kernelspec": {
   "display_name": "Python 3 (ipykernel)",
   "language": "python",
   "name": "python3"
  },
  "language_info": {
   "codemirror_mode": {
    "name": "ipython",
    "version": 3
   },
   "file_extension": ".py",
   "mimetype": "text/x-python",
   "name": "python",
   "nbconvert_exporter": "python",
   "pygments_lexer": "ipython3",
   "version": "3.9.13"
  }
 },
 "nbformat": 4,
 "nbformat_minor": 5
}
